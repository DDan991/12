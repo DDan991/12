{
  "nbformat": 4,
  "nbformat_minor": 0,
  "metadata": {
    "colab": {
      "provenance": [],
      "gpuType": "T4",
      "authorship_tag": "ABX9TyOsxJz0uSwQueA6zXIQ7zza",
      "include_colab_link": true
    },
    "kernelspec": {
      "name": "python3",
      "display_name": "Python 3"
    },
    "language_info": {
      "name": "python"
    },
    "accelerator": "GPU"
  },
  "cells": [
    {
      "cell_type": "markdown",
      "metadata": {
        "id": "view-in-github",
        "colab_type": "text"
      },
      "source": [
        "<a href=\"https://colab.research.google.com/github/DDan991/12/blob/main/CNN_basic.ipynb\" target=\"_parent\"><img src=\"https://colab.research.google.com/assets/colab-badge.svg\" alt=\"Open In Colab\"/></a>"
      ]
    },
    {
      "cell_type": "code",
      "execution_count": 15,
      "metadata": {
        "colab": {
          "base_uri": "https://localhost:8080/"
        },
        "id": "Q9qWpj97gPY8",
        "outputId": "1b8ad4b5-203b-47ee-ca8c-9d98513593f2"
      },
      "outputs": [
        {
          "output_type": "stream",
          "name": "stdout",
          "text": [
            "TensorFlow version: 2.15.0\n"
          ]
        }
      ],
      "source": [
        "import tensorflow as tf\n",
        "print('TensorFlow version:', tf.__version__)\n",
        "\n",
        "from tensorflow.keras.layers import Dense, Flatten, Conv2D\n",
        "from tensorflow.keras import Model"
      ]
    },
    {
      "cell_type": "code",
      "source": [
        "mnist = tf.keras.datasets.mnist\n",
        "\n",
        "(x_train, y_train), (x_test, y_test) = mnist.load_data()\n",
        "\n",
        "#The pixel values in the images are integers between 0 and 255. By dividing each pixel by 255,\n",
        "#we scale these values to a range of 0 to 1.\n",
        "#Normalization is a common preprocessing step to help with the convergence of the training process.\n",
        "x_train, x_test = x_train / 255, x_test / 255\n",
        "\n",
        "#Why Do We Need a Channel Dimension?\n",
        "#TensorFlow's convolutional layers expect inputs to have 4 dimensions: [batch_size, height, width, channels].\n",
        "#Even if there's only one channel (as with grayscale images), you need to explicitly include this channel dimension.\n",
        "\n",
        "#for example: \"...After this operation, the shape becomes (5, 28, 28, 1). Now, each image has an explicit channel dimension of 1.\"\n",
        "\n",
        "x_train = x_train[..., tf.newaxis].astype('float32')\n",
        "x_test = x_test[..., tf.newaxis].astype('float32')"
      ],
      "metadata": {
        "id": "MBnwpoUHgwaY"
      },
      "execution_count": 16,
      "outputs": []
    },
    {
      "cell_type": "code",
      "source": [
        "# 创建 dataset，shuffle 是load 10000 elements，然后从中随机挑选\n",
        "# batch(32) 是指 每个batch有32个elements\n",
        "\n",
        "train_ds = tf.data.Dataset.from_tensor_slices(\n",
        "    (x_train, y_train)).shuffle(10000).batch(32)\n",
        "\n",
        "test_ds = tf.data.Dataset.from_tensor_slices((x_test, y_test)).batch(32)"
      ],
      "metadata": {
        "id": "apEUn42BqyEb"
      },
      "execution_count": 17,
      "outputs": []
    },
    {
      "cell_type": "code",
      "source": [
        "class Mymodel(Model):\n",
        "  def __init__(self):\n",
        "    super(Mymodel, self).__init__()\n",
        "    self.conv1 = Conv2D(32 , 3, activation = 'relu')\n",
        "    self.flatten = Flatten()\n",
        "    self.d1 = Dense(128, activation = 'relu')\n",
        "    self.d2 = Dense(10)\n",
        "\n",
        "  def call(self,x):\n",
        "    x = self.conv1(x)\n",
        "    x = self.flatten(x)\n",
        "    x = self.d1(x)\n",
        "    return self.d2(x)\n",
        "\n",
        "model = Mymodel()"
      ],
      "metadata": {
        "id": "kt96ymT2EO-J"
      },
      "execution_count": 18,
      "outputs": []
    },
    {
      "cell_type": "code",
      "source": [
        "loss_object = tf.keras.losses.SparseCategoricalCrossentropy(from_logits = True)\n",
        "# the loss function that the outputs of the model are logits.\n",
        "# Logtis are raw predictions by a neural network, which are not normalized\n",
        "# if the model inclues a softmax activation function, you should set from_logts = False\n",
        "\n",
        "optimizer = tf.keras.optimizers.Adam()\n",
        "# Adam is an adaptive learning rate optimization algorithm"
      ],
      "metadata": {
        "id": "jduN_7C0FTL6"
      },
      "execution_count": 19,
      "outputs": []
    },
    {
      "cell_type": "code",
      "source": [
        "#a 'Mean' metric object to compute the average loss over all the batches of training data\n",
        "\n",
        "train_loss = tf.keras.metrics.Mean(name = 'train_loss')\n",
        "\n",
        "# It calculates how often predictions match integer labels\n",
        "\n",
        "train_accuracy = tf.keras.metrics.SparseCategoricalAccuracy(name = 'train_accuracy')\n",
        "\n",
        "test_loss = tf.keras.metrics.Mean(name = 'test_loss')\n",
        "test_accuracy = tf.keras.metrics.SparseTopKCategoricalAccuracy(name = 'test_accracy')"
      ],
      "metadata": {
        "id": "8jgk2zrNFfcJ"
      },
      "execution_count": 20,
      "outputs": []
    },
    {
      "cell_type": "code",
      "source": [
        "# complie the function into a callable TensorFlow graph\n",
        "\n",
        "@tf.function\n",
        "def train_step(images, labels):\n",
        "\n",
        "  #the context manageer records the operations for automatic differntiation. for the backpropagation algorithm used during training\n",
        "  with tf.GradientTape() as tape:\n",
        "\n",
        "    # training is True , 当layers 是 Dropout 或者 BatchNormalization, which behave differently during the training and inference\n",
        "    predictions = model(images, training = True)\n",
        "    loss = loss_object(labels, predictions)\n",
        "\n",
        "  #得到 gradients\n",
        "  gradients = tape.gradient(loss, model.trainable_variables)\n",
        "\n",
        "  #将 gradients 放入 optimizer\n",
        "  optimizer.apply_gradients(zip(gradients, model.trainable_variables))\n",
        "\n",
        "  train_loss(loss)\n",
        "  train_accuracy(labels, predictions)\n"
      ],
      "metadata": {
        "id": "iOcHmBNmHl9A"
      },
      "execution_count": 24,
      "outputs": []
    },
    {
      "cell_type": "code",
      "source": [
        "@tf.function\n",
        "def test_step(images, labels):\n",
        "  predictions = model(images, training = False)\n",
        "  t_loss = loss_object(labels, predictions)\n",
        "\n",
        "  test_loss(t_loss)\n",
        "  test_accuracy(labels, predictions)"
      ],
      "metadata": {
        "id": "TgkoAM3gHl9p"
      },
      "execution_count": 22,
      "outputs": []
    },
    {
      "cell_type": "code",
      "source": [
        "EPOCHS = 5\n",
        "\n",
        "for epoch in range(EPOCHS):\n",
        "  train_loss.reset_states()\n",
        "  train_accuracy.reset_states()\n",
        "  test_loss.reset_states()\n",
        "  test_accuracy.reset_states()\n",
        "\n",
        "  for images, labels in train_ds:\n",
        "    train_step(images, labels)\n",
        "\n",
        "  for test_images, test_labels in test_ds:\n",
        "    test_step(test_images, test_labels)\n",
        "\n",
        "  print(\n",
        "    f'Epoch {epoch + 1}, '\n",
        "    f'Loss: {train_loss.result()}, '\n",
        "    f'Accuracy: {train_accuracy.result() * 100}, '\n",
        "    f'Test Loss: {test_loss.result()}, '\n",
        "    f'Test Accuracy: {test_accuracy.result() * 100}'\n",
        "  )"
      ],
      "metadata": {
        "colab": {
          "base_uri": "https://localhost:8080/"
        },
        "id": "5Yus6lgCJqg1",
        "outputId": "38a3fb1e-64b6-4629-96a0-2cc72f88ddc7"
      },
      "execution_count": 26,
      "outputs": [
        {
          "output_type": "stream",
          "name": "stdout",
          "text": [
            "Epoch 1, Loss: 0.04472764953970909, Accuracy: 98.64666748046875, Test Loss: 0.06117803603410721, Test Accuracy: 99.98999786376953\n",
            "Epoch 2, Loss: 0.02415388822555542, Accuracy: 99.20500183105469, Test Loss: 0.05286785960197449, Test Accuracy: 99.9800033569336\n",
            "Epoch 3, Loss: 0.013892518356442451, Accuracy: 99.55166625976562, Test Loss: 0.05780019611120224, Test Accuracy: 99.95999908447266\n",
            "Epoch 4, Loss: 0.011253850534558296, Accuracy: 99.63166809082031, Test Loss: 0.060394834727048874, Test Accuracy: 99.9800033569336\n",
            "Epoch 5, Loss: 0.006118257064372301, Accuracy: 99.80333709716797, Test Loss: 0.07487668842077255, Test Accuracy: 99.97000122070312\n"
          ]
        }
      ]
    }
  ]
}